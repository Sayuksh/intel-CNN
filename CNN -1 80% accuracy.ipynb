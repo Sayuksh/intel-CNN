{
 "cells": [
  {
   "cell_type": "code",
   "execution_count": 1,
   "id": "8db26890",
   "metadata": {},
   "outputs": [],
   "source": [
    "import os\n",
    "import numpy as np\n",
    "import glob\n",
    "import torch\n",
    "import torchvision\n",
    "import torchvision.transforms as transform\n",
    "import torch.nn as nn\n",
    "import torch.nn.functional as F\n",
    "from torch.utils.data import DataLoader\n",
    "from torch.optim import Adam\n",
    "from torch.autograd import Variable\n",
    "import pathlib\n"
   ]
  },
  {
   "cell_type": "code",
   "execution_count": 2,
   "id": "703f293f",
   "metadata": {},
   "outputs": [
    {
     "data": {
      "text/plain": [
       "True"
      ]
     },
     "execution_count": 2,
     "metadata": {},
     "output_type": "execute_result"
    }
   ],
   "source": [
    "torch.cuda.is_available()"
   ]
  },
  {
   "cell_type": "code",
   "execution_count": 3,
   "id": "1a2c3d9b",
   "metadata": {},
   "outputs": [],
   "source": [
    "transformer=transform.Compose([\n",
    "    transform.Resize((256,256)),\n",
    "    transform.RandomHorizontalFlip(),\n",
    "    transform.ToTensor(),\n",
    "    transform.Normalize([0.5,0.5,0.5],\n",
    "                       [0.5,0.5,0.5])\n",
    "    \n",
    "])"
   ]
  },
  {
   "cell_type": "code",
   "execution_count": 4,
   "id": "1e01137b",
   "metadata": {},
   "outputs": [],
   "source": [
    "train_path='seg_train/seg_train'\n",
    "test_path='seg_test/seg_test'\n",
    "\n",
    "trainloader=DataLoader(\n",
    "    torchvision.datasets.ImageFolder(train_path,transform=transformer),\n",
    "    batch_size=64,shuffle=True\n",
    ")\n",
    "testloader=DataLoader(\n",
    "    torchvision.datasets.ImageFolder(test_path,transform=transformer),\n",
    "    batch_size=64,shuffle=True\n",
    ")"
   ]
  },
  {
   "cell_type": "code",
   "execution_count": 5,
   "id": "f7f3d48e",
   "metadata": {},
   "outputs": [
    {
     "data": {
      "text/plain": [
       "['buildings', 'forest', 'glacier', 'mountain', 'sea', 'street']"
      ]
     },
     "execution_count": 5,
     "metadata": {},
     "output_type": "execute_result"
    }
   ],
   "source": [
    "root=pathlib.Path(train_path)\n",
    "classes=sorted([j.name.split('/')[-1] for j in root.iterdir()])\n",
    "classes"
   ]
  },
  {
   "cell_type": "code",
   "execution_count": 6,
   "id": "934936df",
   "metadata": {},
   "outputs": [
    {
     "name": "stdout",
     "output_type": "stream",
     "text": [
      "<class 'torch.Tensor'>\n",
      "torch.Size([64, 3, 256, 256])\n",
      "torch.Size([64])\n"
     ]
    }
   ],
   "source": [
    "dataiter = iter(trainloader)\n",
    "images, labels = next(dataiter)\n",
    "print(type(images))\n",
    "print(images.shape)\n",
    "print(labels.shape)"
   ]
  },
  {
   "cell_type": "code",
   "execution_count": 7,
   "id": "c4a5ddec",
   "metadata": {},
   "outputs": [],
   "source": [
    "class ConvNet(nn.Module):\n",
    "    def __init__(self,num_classes=6):\n",
    "        super(ConvNet,self).__init__()\n",
    "        #((w-f+2p)/s)+1\n",
    "    \n",
    "        self.conv1=nn.Conv2d(in_channels=3,out_channels=20,kernel_size=3,stride=1,padding=1)\n",
    "        self.bn1=nn.BatchNorm2d(num_features=20)\n",
    "        self.relu1=nn.ReLU()\n",
    "        #shape=(32,12,256,256)\n",
    "        self.pool=nn.MaxPool2d(kernel_size=2)\n",
    "        #shape=(32,12,128,128)\n",
    "        \n",
    "        \n",
    "        self.conv2=nn.Conv2d(in_channels=20,out_channels=8,kernel_size=3,stride=1,padding=1)\n",
    "        self.relu2=nn.ReLU()\n",
    "        #shape=(32,12,125,125)\n",
    "        \n",
    "        self.conv3=nn.Conv2d(in_channels=8,out_channels=12,kernel_size=3,stride=1,padding=1)\n",
    "        self.relu3=nn.ReLU()\n",
    "        #shape=(32,12,123,123)\n",
    "        self.pool3=nn.MaxPool2d(kernel_size=2)\n",
    "        \n",
    "        \n",
    "        self.conv4=nn.Conv2d(in_channels=12,out_channels=32,kernel_size=3,stride=1,padding=1)\n",
    "        self.bn4=nn.BatchNorm2d(num_features=32)\n",
    "        self.relu4=nn.ReLU()\n",
    "        \n",
    "        #shape=(32,12,121,121)\n",
    "        \n",
    "        self.fc=nn.Linear(in_features=32*64*64,out_features=num_classes)\n",
    "        \n",
    "        \n",
    "    def forward(self,input):\n",
    "        output=self.conv1(input)\n",
    "        output=self.bn1(output)\n",
    "        output=self.relu1(output)\n",
    "        \n",
    "        output=self.pool(output)\n",
    "        \n",
    "        output=self.conv2(output)\n",
    "        output=self.relu2(output)\n",
    "        \n",
    "        output=self.conv3(output)\n",
    "        output=self.relu3(output)\n",
    "        output=self.pool3(output)\n",
    "        \n",
    "        output=self.conv4(output)\n",
    "        output=self.bn4(output)\n",
    "        output=self.relu4(output)\n",
    "        \n",
    "        \n",
    "        output=output.view(-1,32*64*64)\n",
    "        \n",
    "        output=self.fc(output)\n",
    "        \n",
    "        return output\n",
    "        \n",
    "        \n",
    "        \n",
    "        \n",
    "        \n",
    "        \n",
    "        \n",
    "        "
   ]
  },
  {
   "cell_type": "code",
   "execution_count": 8,
   "id": "a65f4cc4",
   "metadata": {},
   "outputs": [],
   "source": [
    "# class ConvNet(nn.Module):\n",
    "#     def __init__(self,num_classes=6):\n",
    "#         super(ConvNet,self).__init__()\n",
    "        \n",
    "#         #Output size after convolution filter\n",
    "#         #((w-f+2P)/s) +1\n",
    "        \n",
    "#         #Input shape= (256,3,150,150)\n",
    "        \n",
    "#         self.conv1=nn.Conv2d(in_channels=3,out_channels=12,kernel_size=3,stride=1,padding=1)\n",
    "#         #Shape= (256,12,150,150)\n",
    "#         self.bn1=nn.BatchNorm2d(num_features=12)\n",
    "#         #Shape= (256,12,150,150)\n",
    "#         self.relu1=nn.ReLU()\n",
    "#         #Shape= (256,12,150,150)\n",
    "        \n",
    "#         self.pool=nn.MaxPool2d(kernel_size=2)\n",
    "#         #Reduce the image size be factor 2\n",
    "#         #Shape= (256,12,75,75)\n",
    "        \n",
    "        \n",
    "#         self.conv2=nn.Conv2d(in_channels=12,out_channels=20,kernel_size=3,stride=1,padding=1)\n",
    "#         #Shape= (256,20,75,75)\n",
    "#         self.relu2=nn.ReLU()\n",
    "#         #Shape= (256,20,75,75)\n",
    "        \n",
    "        \n",
    "        \n",
    "#         self.conv3=nn.Conv2d(in_channels=20,out_channels=32,kernel_size=3,stride=1,padding=1)\n",
    "#         #Shape= (256,32,75,75)\n",
    "#         self.bn3=nn.BatchNorm2d(num_features=32)\n",
    "#         #Shape= (256,32,75,75)\n",
    "#         self.relu3=nn.ReLU()\n",
    "#         #Shape= (256,32,75,75)\n",
    "        \n",
    "        \n",
    "#         self.fc=nn.Linear(in_features=75 * 75 * 32,out_features=num_classes)\n",
    "        \n",
    "        \n",
    "        \n",
    "#         #Feed forwad function\n",
    "        \n",
    "#     def forward(self,input):\n",
    "#         output=self.conv1(input)\n",
    "#         output=self.bn1(output)\n",
    "#         output=self.relu1(output)\n",
    "            \n",
    "#         output=self.pool(output)\n",
    "            \n",
    "#         output=self.conv2(output)\n",
    "#         output=self.relu2(output)\n",
    "            \n",
    "#         output=self.conv3(output)\n",
    "#         output=self.bn3(output)\n",
    "#         output=self.relu3(output)\n",
    "            \n",
    "            \n",
    "#             #Above output will be in matrix form, with shape (256,32,75,75)\n",
    "            \n",
    "#         output=output.view(-1,32*75*75)\n",
    "            \n",
    "            \n",
    "#         output=self.fc(output)\n",
    "            \n",
    "#         return output"
   ]
  },
  {
   "cell_type": "code",
   "execution_count": 9,
   "id": "3bb1f29f",
   "metadata": {},
   "outputs": [],
   "source": [
    "model=ConvNet(num_classes=6).to('cuda')"
   ]
  },
  {
   "cell_type": "code",
   "execution_count": 10,
   "id": "06e621c5",
   "metadata": {},
   "outputs": [],
   "source": [
    "optimiser=Adam(model.parameters(),lr=0.001,weight_decay=0.0001)\n",
    "loss_function=nn.CrossEntropyLoss()"
   ]
  },
  {
   "cell_type": "code",
   "execution_count": 11,
   "id": "0f1b5035",
   "metadata": {},
   "outputs": [],
   "source": [
    "num_epochs=250"
   ]
  },
  {
   "cell_type": "code",
   "execution_count": 12,
   "id": "ec13a8f3",
   "metadata": {},
   "outputs": [],
   "source": [
    "train_count=len(glob.glob(train_path+'/**/*.jpg'))\n",
    "test_count=len(glob.glob(test_path+'/**/*.jpg'))"
   ]
  },
  {
   "cell_type": "code",
   "execution_count": 13,
   "id": "0e4e0b37",
   "metadata": {},
   "outputs": [
    {
     "name": "stdout",
     "output_type": "stream",
     "text": [
      "14034 3000\n"
     ]
    }
   ],
   "source": [
    "print(train_count,test_count)"
   ]
  },
  {
   "cell_type": "code",
   "execution_count": 14,
   "id": "57b2d39b",
   "metadata": {
    "scrolled": false
   },
   "outputs": [
    {
     "ename": "KeyboardInterrupt",
     "evalue": "",
     "output_type": "error",
     "traceback": [
      "\u001b[1;31m---------------------------------------------------------------------------\u001b[0m",
      "\u001b[1;31mKeyboardInterrupt\u001b[0m                         Traceback (most recent call last)",
      "Cell \u001b[1;32mIn[14], line 16\u001b[0m\n\u001b[0;32m     14\u001b[0m outputs\u001b[38;5;241m=\u001b[39mmodel(images)\n\u001b[0;32m     15\u001b[0m loss\u001b[38;5;241m=\u001b[39mloss_function(outputs, labels)\n\u001b[1;32m---> 16\u001b[0m \u001b[43mloss\u001b[49m\u001b[38;5;241;43m.\u001b[39;49m\u001b[43mbackward\u001b[49m\u001b[43m(\u001b[49m\u001b[43m)\u001b[49m\n\u001b[0;32m     17\u001b[0m optimiser\u001b[38;5;241m.\u001b[39mstep()\n\u001b[0;32m     19\u001b[0m train_loss\u001b[38;5;241m+\u001b[39m\u001b[38;5;241m=\u001b[39mloss\u001b[38;5;241m.\u001b[39mcpu()\u001b[38;5;241m.\u001b[39mdata\u001b[38;5;241m*\u001b[39mimages\u001b[38;5;241m.\u001b[39msize(\u001b[38;5;241m0\u001b[39m)\n",
      "File \u001b[1;32mD:\\anaconda\\envs\\MachineLearning\\Lib\\site-packages\\torch\\_tensor.py:487\u001b[0m, in \u001b[0;36mTensor.backward\u001b[1;34m(self, gradient, retain_graph, create_graph, inputs)\u001b[0m\n\u001b[0;32m    477\u001b[0m \u001b[38;5;28;01mif\u001b[39;00m has_torch_function_unary(\u001b[38;5;28mself\u001b[39m):\n\u001b[0;32m    478\u001b[0m     \u001b[38;5;28;01mreturn\u001b[39;00m handle_torch_function(\n\u001b[0;32m    479\u001b[0m         Tensor\u001b[38;5;241m.\u001b[39mbackward,\n\u001b[0;32m    480\u001b[0m         (\u001b[38;5;28mself\u001b[39m,),\n\u001b[1;32m   (...)\u001b[0m\n\u001b[0;32m    485\u001b[0m         inputs\u001b[38;5;241m=\u001b[39minputs,\n\u001b[0;32m    486\u001b[0m     )\n\u001b[1;32m--> 487\u001b[0m \u001b[43mtorch\u001b[49m\u001b[38;5;241;43m.\u001b[39;49m\u001b[43mautograd\u001b[49m\u001b[38;5;241;43m.\u001b[39;49m\u001b[43mbackward\u001b[49m\u001b[43m(\u001b[49m\n\u001b[0;32m    488\u001b[0m \u001b[43m    \u001b[49m\u001b[38;5;28;43mself\u001b[39;49m\u001b[43m,\u001b[49m\u001b[43m \u001b[49m\u001b[43mgradient\u001b[49m\u001b[43m,\u001b[49m\u001b[43m \u001b[49m\u001b[43mretain_graph\u001b[49m\u001b[43m,\u001b[49m\u001b[43m \u001b[49m\u001b[43mcreate_graph\u001b[49m\u001b[43m,\u001b[49m\u001b[43m \u001b[49m\u001b[43minputs\u001b[49m\u001b[38;5;241;43m=\u001b[39;49m\u001b[43minputs\u001b[49m\n\u001b[0;32m    489\u001b[0m \u001b[43m\u001b[49m\u001b[43m)\u001b[49m\n",
      "File \u001b[1;32mD:\\anaconda\\envs\\MachineLearning\\Lib\\site-packages\\torch\\autograd\\__init__.py:200\u001b[0m, in \u001b[0;36mbackward\u001b[1;34m(tensors, grad_tensors, retain_graph, create_graph, grad_variables, inputs)\u001b[0m\n\u001b[0;32m    195\u001b[0m     retain_graph \u001b[38;5;241m=\u001b[39m create_graph\n\u001b[0;32m    197\u001b[0m \u001b[38;5;66;03m# The reason we repeat same the comment below is that\u001b[39;00m\n\u001b[0;32m    198\u001b[0m \u001b[38;5;66;03m# some Python versions print out the first line of a multi-line function\u001b[39;00m\n\u001b[0;32m    199\u001b[0m \u001b[38;5;66;03m# calls in the traceback and some print out the last line\u001b[39;00m\n\u001b[1;32m--> 200\u001b[0m \u001b[43mVariable\u001b[49m\u001b[38;5;241;43m.\u001b[39;49m\u001b[43m_execution_engine\u001b[49m\u001b[38;5;241;43m.\u001b[39;49m\u001b[43mrun_backward\u001b[49m\u001b[43m(\u001b[49m\u001b[43m  \u001b[49m\u001b[38;5;66;43;03m# Calls into the C++ engine to run the backward pass\u001b[39;49;00m\n\u001b[0;32m    201\u001b[0m \u001b[43m    \u001b[49m\u001b[43mtensors\u001b[49m\u001b[43m,\u001b[49m\u001b[43m \u001b[49m\u001b[43mgrad_tensors_\u001b[49m\u001b[43m,\u001b[49m\u001b[43m \u001b[49m\u001b[43mretain_graph\u001b[49m\u001b[43m,\u001b[49m\u001b[43m \u001b[49m\u001b[43mcreate_graph\u001b[49m\u001b[43m,\u001b[49m\u001b[43m \u001b[49m\u001b[43minputs\u001b[49m\u001b[43m,\u001b[49m\n\u001b[0;32m    202\u001b[0m \u001b[43m    \u001b[49m\u001b[43mallow_unreachable\u001b[49m\u001b[38;5;241;43m=\u001b[39;49m\u001b[38;5;28;43;01mTrue\u001b[39;49;00m\u001b[43m,\u001b[49m\u001b[43m \u001b[49m\u001b[43maccumulate_grad\u001b[49m\u001b[38;5;241;43m=\u001b[39;49m\u001b[38;5;28;43;01mTrue\u001b[39;49;00m\u001b[43m)\u001b[49m\n",
      "\u001b[1;31mKeyboardInterrupt\u001b[0m: "
     ]
    }
   ],
   "source": [
    "best_accuracy=0.0\n",
    "\n",
    "for epoch in range (num_epochs):\n",
    "    model.train()\n",
    "    train_accuracy=0.0\n",
    "    train_loss=0.0\n",
    "    \n",
    "    for i ,(images,labels) in enumerate(trainloader):\n",
    "        if torch.cuda.is_available():\n",
    "            images=Variable(images.cuda())\n",
    "            labels=Variable(labels.cuda())\n",
    "            \n",
    "        optimiser.zero_grad()\n",
    "        outputs=model(images)\n",
    "        loss=loss_function(outputs, labels)\n",
    "        loss.backward()\n",
    "        optimiser.step()\n",
    "        \n",
    "        train_loss+=loss.cpu().data*images.size(0)\n",
    "        _, prediction=torch.max(outputs.data,1)\n",
    "        \n",
    "        train_accuracy+=int(torch.sum(prediction==labels.data))\n",
    "    train_accuracy=train_accuracy/train_count\n",
    "    train_loss=train_loss/train_count\n",
    "    \n",
    "    \n",
    "    model.eval()\n",
    "    \n",
    "    \n",
    "    for i ,(images,labels) in enumerate(testloader):\n",
    "        if torch.cuda.is_available():\n",
    "            images=Variable(images.cuda())\n",
    "            labels=Variable(labels.cuda())\n",
    "            \n",
    "            \n",
    "        outputs=model(images)\n",
    "        _, prediction=torch.max(outputs.data,1)\n",
    "        test_accuracy+=int(torch.sum(prediction==labels.data))\n",
    "        \n",
    "    test_accuracy=test_accuracy/test_count\n",
    "    \n",
    "    if epoch%10==0:\n",
    "        print('Epoch: '+str(epoch)+' Train loss: '+str(train_loss)+' Train accuracy '+str(train_accuracy)+' Test accuracy '+str(test_accuracy))\n",
    "    \n",
    "    if test_accuracy>best_accuracy:\n",
    "        torch.save(model.state_dict(),'best_checkpoint.model')\n",
    "        best_accuracy=test_accuracy\n",
    "\n"
   ]
  },
  {
   "cell_type": "code",
   "execution_count": null,
   "id": "6e3d58cb",
   "metadata": {},
   "outputs": [],
   "source": [
    "print(torch.cuda.memory_allocated())\n",
    "#del images,labels,model\n",
    "torch.cuda.empty_cache()\n",
    "print(torch.cuda.memory_allocated())\n",
    "torch.cuda.empty_cache()"
   ]
  },
  {
   "cell_type": "code",
   "execution_count": null,
   "id": "878a1c8d",
   "metadata": {
    "scrolled": true
   },
   "outputs": [],
   "source": [
    "checkpoint=torch.load('best_checkpoint.model')\n",
    "model=ConvNet(num_classes=6)\n",
    "model.load_state_dict(checkpoint)\n",
    "model.eval()"
   ]
  },
  {
   "cell_type": "code",
   "execution_count": null,
   "id": "8367cb87",
   "metadata": {},
   "outputs": [],
   "source": [
    "transformer=transform.Compose([\n",
    "    transform.Resize((256,256)),\n",
    "    transform.ToTensor(),  #0-255 to 0-1, numpy to tensors\n",
    "    transform.Normalize([0.5,0.5,0.5], # 0-1 to [-1,1] , formula (x-mean)/std\n",
    "                        [0.5,0.5,0.5])\n",
    "])"
   ]
  },
  {
   "cell_type": "code",
   "execution_count": null,
   "id": "bf4bfa2e",
   "metadata": {},
   "outputs": [],
   "source": [
    "from PIL import Image\n",
    "def prediction(img_path,transformer):\n",
    "    \n",
    "    image=Image.open(img_path)\n",
    "    \n",
    "    image_tensor=transformer(image).float()\n",
    "    \n",
    "    \n",
    "    image_tensor=image_tensor.unsqueeze_(0)\n",
    "    \n",
    "    if torch.cuda.is_available():\n",
    "        image_tensor.cuda()\n",
    "        \n",
    "    input=Variable(image_tensor)\n",
    "    \n",
    "    \n",
    "    output=model(input)\n",
    "    \n",
    "    index=output.data.numpy().argmax()\n",
    "    \n",
    "    pred=classes[index]\n",
    "    \n",
    "    return pred"
   ]
  },
  {
   "cell_type": "code",
   "execution_count": null,
   "id": "f2412c95",
   "metadata": {},
   "outputs": [],
   "source": [
    "pred_path='seg_pred/seg_pred'\n",
    "images_path=glob.glob(pred_path+'/*.jpg')\n"
   ]
  },
  {
   "cell_type": "code",
   "execution_count": null,
   "id": "d61cfc72",
   "metadata": {},
   "outputs": [],
   "source": [
    "pred_dict={}\n",
    "\n",
    "for i in images_path:\n",
    "    pred_dict[i[i.rfind('/')+1:]]=prediction(i,transformer)"
   ]
  },
  {
   "cell_type": "code",
   "execution_count": null,
   "id": "cad3c32d",
   "metadata": {},
   "outputs": [],
   "source": [
    "pred_dict"
   ]
  },
  {
   "cell_type": "code",
   "execution_count": null,
   "id": "2f4dc655",
   "metadata": {},
   "outputs": [],
   "source": [
    "Image.open(r\"seg_pred/seg_pred/10631.jpg\")"
   ]
  },
  {
   "cell_type": "code",
   "execution_count": null,
   "id": "2404b1fa",
   "metadata": {},
   "outputs": [],
   "source": [
    "best_accuracy"
   ]
  }
 ],
 "metadata": {
  "kernelspec": {
   "display_name": "Python 3.11.4(tensorflow)",
   "language": "python",
   "name": "machinelearng"
  },
  "language_info": {
   "codemirror_mode": {
    "name": "ipython",
    "version": 3
   },
   "file_extension": ".py",
   "mimetype": "text/x-python",
   "name": "python",
   "nbconvert_exporter": "python",
   "pygments_lexer": "ipython3",
   "version": "3.11.4"
  }
 },
 "nbformat": 4,
 "nbformat_minor": 5
}
